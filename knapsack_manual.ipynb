{
 "cells": [
  {
   "cell_type": "markdown",
   "source": [
    "# AQC per il problema dello zaino"
   ],
   "metadata": {
    "collapsed": false
   }
  },
  {
   "cell_type": "code",
   "execution_count": 215,
   "outputs": [],
   "source": [
    "import pandas as pd\n",
    "import dimod\n",
    "from sympy import Sum, IndexedBase, Idx, expand, Poly\n",
    "from sympy.abc import m, c, lamda"
   ],
   "metadata": {
    "collapsed": false,
    "ExecuteTime": {
     "start_time": "2024-02-21T22:55:50.720172Z",
     "end_time": "2024-02-21T22:55:50.811147Z"
    }
   }
  },
  {
   "cell_type": "code",
   "execution_count": 216,
   "outputs": [
    {
     "data": {
      "text/plain": "   p  w\n1  3  1\n2  4  3\n3  2  2",
      "text/html": "<div>\n<style scoped>\n    .dataframe tbody tr th:only-of-type {\n        vertical-align: middle;\n    }\n\n    .dataframe tbody tr th {\n        vertical-align: top;\n    }\n\n    .dataframe thead th {\n        text-align: right;\n    }\n</style>\n<table border=\"1\" class=\"dataframe\">\n  <thead>\n    <tr style=\"text-align: right;\">\n      <th></th>\n      <th>p</th>\n      <th>w</th>\n    </tr>\n  </thead>\n  <tbody>\n    <tr>\n      <th>1</th>\n      <td>3</td>\n      <td>1</td>\n    </tr>\n    <tr>\n      <th>2</th>\n      <td>4</td>\n      <td>3</td>\n    </tr>\n    <tr>\n      <th>3</th>\n      <td>2</td>\n      <td>2</td>\n    </tr>\n  </tbody>\n</table>\n</div>"
     },
     "execution_count": 216,
     "metadata": {},
     "output_type": "execute_result"
    }
   ],
   "source": [
    "data = pd.read_csv('data/very_small.csv', names=['p', 'w'])\n",
    "data.index = range(1, len(data) + 1)\n",
    "\n",
    "num_items = len(data)\n",
    "capacity = int(0.8 * sum(data['w']))\n",
    "\n",
    "data"
   ],
   "metadata": {
    "collapsed": false,
    "ExecuteTime": {
     "start_time": "2024-02-21T22:55:50.728736Z",
     "end_time": "2024-02-21T22:55:50.893946Z"
    }
   }
  },
  {
   "cell_type": "code",
   "execution_count": 217,
   "metadata": {
    "collapsed": true,
    "ExecuteTime": {
     "start_time": "2024-02-21T22:55:50.773168Z",
     "end_time": "2024-02-21T22:55:50.895948Z"
    }
   },
   "outputs": [
    {
     "data": {
      "text/plain": "lamda*((1 - Sum(y[n], (n, 1, c)))**2 + (Sum(n*y[n], (n, 1, c)) - Sum(w[j]*x[j], (j, 1, m)))**2) - Sum(p[j]*x[j], (j, 1, m))",
      "text/latex": "$\\displaystyle \\lambda \\left(\\left(1 - \\sum_{n=1}^{c} {y}_{n}\\right)^{2} + \\left(\\sum_{n=1}^{c} n {y}_{n} - \\sum_{j=1}^{m} {w}_{j} {x}_{j}\\right)^{2}\\right) - \\sum_{j=1}^{m} {p}_{j} {x}_{j}$"
     },
     "execution_count": 217,
     "metadata": {},
     "output_type": "execute_result"
    }
   ],
   "source": [
    "j = Idx('j')\n",
    "n = Idx('n')\n",
    "X = IndexedBase('x', shape=num_items)\n",
    "P = IndexedBase('p', shape=num_items)\n",
    "W = IndexedBase('w', shape=num_items)\n",
    "Y = IndexedBase('y', shape=capacity)\n",
    "\n",
    "syms = [X[i] for i in range(1, num_items + 1)] + [Y[i] for i in range(1, capacity + 1)]\n",
    "\n",
    "expr = - Sum(P[j] * X[j], (j, 1, m)) + \\\n",
    "       lamda * ((1 - Sum(Y[n], (n, 1, c))) ** 2 + (Sum(n * Y[n], (n, 1, c)) - Sum(W[j] * X[j], (j, 1, m))) ** 2)\n",
    "\n",
    "expr"
   ]
  },
  {
   "cell_type": "code",
   "execution_count": 218,
   "outputs": [
    {
     "data": {
      "text/plain": "5*(-y[1] - y[2] - y[3] - y[4] + 1)**2 + 5*(-x[1] - 3*x[2] - 2*x[3] + y[1] + 2*y[2] + 3*y[3] + 4*y[4])**2 - 3*x[1] - 4*x[2] - 2*x[3]",
      "text/latex": "$\\displaystyle 5 \\left(- {y}_{1} - {y}_{2} - {y}_{3} - {y}_{4} + 1\\right)^{2} + 5 \\left(- {x}_{1} - 3 {x}_{2} - 2 {x}_{3} + {y}_{1} + 2 {y}_{2} + 3 {y}_{3} + 4 {y}_{4}\\right)^{2} - 3 {x}_{1} - 4 {x}_{2} - 2 {x}_{3}$"
     },
     "execution_count": 218,
     "metadata": {},
     "output_type": "execute_result"
    }
   ],
   "source": [
    "expr = expr.subs([(m, num_items), (c, capacity)]).doit() \\\n",
    "           .subs([(P[i], data['p'][i]) for i in range(1, num_items + 1)]) \\\n",
    "           .subs([(W[i], data['w'][i]) for i in range(1, num_items + 1)]) \\\n",
    "           .subs(lamda, 1 + data['p'].max())\n",
    "\n",
    "expr"
   ],
   "metadata": {
    "collapsed": false,
    "ExecuteTime": {
     "start_time": "2024-02-21T22:55:50.797140Z",
     "end_time": "2024-02-21T22:55:50.896944Z"
    }
   }
  },
  {
   "cell_type": "code",
   "execution_count": 219,
   "outputs": [
    {
     "data": {
      "text/plain": "30*x[1]*x[2] + 20*x[1]*x[3] - 10*x[1]*y[1] - 20*x[1]*y[2] - 30*x[1]*y[3] - 40*x[1]*y[4] + 2*x[1] + 60*x[2]*x[3] - 30*x[2]*y[1] - 60*x[2]*y[2] - 90*x[2]*y[3] - 120*x[2]*y[4] + 41*x[2] - 20*x[3]*y[1] - 40*x[3]*y[2] - 60*x[3]*y[3] - 80*x[3]*y[4] + 18*x[3] + 30*y[1]*y[2] + 40*y[1]*y[3] + 50*y[1]*y[4] + 70*y[2]*y[3] + 90*y[2]*y[4] + 15*y[2] + 130*y[3]*y[4] + 40*y[3] + 75*y[4] + 5",
      "text/latex": "$\\displaystyle 30 {x}_{1} {x}_{2} + 20 {x}_{1} {x}_{3} - 10 {x}_{1} {y}_{1} - 20 {x}_{1} {y}_{2} - 30 {x}_{1} {y}_{3} - 40 {x}_{1} {y}_{4} + 2 {x}_{1} + 60 {x}_{2} {x}_{3} - 30 {x}_{2} {y}_{1} - 60 {x}_{2} {y}_{2} - 90 {x}_{2} {y}_{3} - 120 {x}_{2} {y}_{4} + 41 {x}_{2} - 20 {x}_{3} {y}_{1} - 40 {x}_{3} {y}_{2} - 60 {x}_{3} {y}_{3} - 80 {x}_{3} {y}_{4} + 18 {x}_{3} + 30 {y}_{1} {y}_{2} + 40 {y}_{1} {y}_{3} + 50 {y}_{1} {y}_{4} + 70 {y}_{2} {y}_{3} + 90 {y}_{2} {y}_{4} + 15 {y}_{2} + 130 {y}_{3} {y}_{4} + 40 {y}_{3} + 75 {y}_{4} + 5$"
     },
     "execution_count": 219,
     "metadata": {},
     "output_type": "execute_result"
    }
   ],
   "source": [
    "expr = expand(expr).replace(lambda x: x.is_Pow, lambda x: x.base)\n",
    "poly = Poly(expr)\n",
    "\n",
    "expr"
   ],
   "metadata": {
    "collapsed": false,
    "ExecuteTime": {
     "start_time": "2024-02-21T22:55:50.866638Z",
     "end_time": "2024-02-21T22:55:50.897951Z"
    }
   }
  },
  {
   "cell_type": "code",
   "execution_count": 220,
   "outputs": [
    {
     "data": {
      "text/plain": "      x[1]  x[2]  x[3]  y[1]  y[2]  y[3]  y[4]\nx[1]     2    30    20   -10   -20   -30   -40\nx[2]     0    41    60   -30   -60   -90  -120\nx[3]     0     0    18   -20   -40   -60   -80\ny[1]     0     0     0     0    30    40    50\ny[2]     0     0     0     0    15    70    90\ny[3]     0     0     0     0     0    40   130\ny[4]     0     0     0     0     0     0    75",
      "text/html": "<div>\n<style scoped>\n    .dataframe tbody tr th:only-of-type {\n        vertical-align: middle;\n    }\n\n    .dataframe tbody tr th {\n        vertical-align: top;\n    }\n\n    .dataframe thead th {\n        text-align: right;\n    }\n</style>\n<table border=\"1\" class=\"dataframe\">\n  <thead>\n    <tr style=\"text-align: right;\">\n      <th></th>\n      <th>x[1]</th>\n      <th>x[2]</th>\n      <th>x[3]</th>\n      <th>y[1]</th>\n      <th>y[2]</th>\n      <th>y[3]</th>\n      <th>y[4]</th>\n    </tr>\n  </thead>\n  <tbody>\n    <tr>\n      <th>x[1]</th>\n      <td>2</td>\n      <td>30</td>\n      <td>20</td>\n      <td>-10</td>\n      <td>-20</td>\n      <td>-30</td>\n      <td>-40</td>\n    </tr>\n    <tr>\n      <th>x[2]</th>\n      <td>0</td>\n      <td>41</td>\n      <td>60</td>\n      <td>-30</td>\n      <td>-60</td>\n      <td>-90</td>\n      <td>-120</td>\n    </tr>\n    <tr>\n      <th>x[3]</th>\n      <td>0</td>\n      <td>0</td>\n      <td>18</td>\n      <td>-20</td>\n      <td>-40</td>\n      <td>-60</td>\n      <td>-80</td>\n    </tr>\n    <tr>\n      <th>y[1]</th>\n      <td>0</td>\n      <td>0</td>\n      <td>0</td>\n      <td>0</td>\n      <td>30</td>\n      <td>40</td>\n      <td>50</td>\n    </tr>\n    <tr>\n      <th>y[2]</th>\n      <td>0</td>\n      <td>0</td>\n      <td>0</td>\n      <td>0</td>\n      <td>15</td>\n      <td>70</td>\n      <td>90</td>\n    </tr>\n    <tr>\n      <th>y[3]</th>\n      <td>0</td>\n      <td>0</td>\n      <td>0</td>\n      <td>0</td>\n      <td>0</td>\n      <td>40</td>\n      <td>130</td>\n    </tr>\n    <tr>\n      <th>y[4]</th>\n      <td>0</td>\n      <td>0</td>\n      <td>0</td>\n      <td>0</td>\n      <td>0</td>\n      <td>0</td>\n      <td>75</td>\n    </tr>\n  </tbody>\n</table>\n</div>"
     },
     "execution_count": 220,
     "metadata": {},
     "output_type": "execute_result"
    }
   ],
   "source": [
    "Q = pd.DataFrame(0, index=syms, columns=syms)\n",
    "\n",
    "for sym1 in syms:\n",
    "    for sym2 in syms[syms.index(sym1):]:\n",
    "        Q.loc[sym1, sym2] = int(poly.coeff_monomial(sym1 if sym1 == sym2 else sym1*sym2))\n",
    "\n",
    "Q"
   ],
   "metadata": {
    "collapsed": false,
    "ExecuteTime": {
     "start_time": "2024-02-21T22:55:50.899946Z",
     "end_time": "2024-02-21T22:55:51.015899Z"
    }
   }
  },
  {
   "cell_type": "code",
   "execution_count": 221,
   "outputs": [
    {
     "data": {
      "text/plain": "     0  1  2  3  4  5  6  energy  num_occurrences\n125  1  1  0  0  0  0  1   -12.0                1\n57   1  0  1  0  0  1  0   -10.0                1\n101  1  1  1  0  1  0  1    -9.0                1\n60   0  1  0  0  0  1  0    -9.0                1\n14   1  0  0  1  0  0  0    -8.0                1\n..  .. .. .. .. .. .. ..     ...              ...\n79   0  0  0  1  0  1  1   335.0                1\n87   0  0  1  1  1  1  1   358.0                1\n95   0  0  0  0  1  1  1   420.0                1\n81   1  0  0  1  1  1  1   442.0                1\n80   0  0  0  1  1  1  1   540.0                1\n\n[128 rows x 9 columns]",
      "text/html": "<div>\n<style scoped>\n    .dataframe tbody tr th:only-of-type {\n        vertical-align: middle;\n    }\n\n    .dataframe tbody tr th {\n        vertical-align: top;\n    }\n\n    .dataframe thead th {\n        text-align: right;\n    }\n</style>\n<table border=\"1\" class=\"dataframe\">\n  <thead>\n    <tr style=\"text-align: right;\">\n      <th></th>\n      <th>0</th>\n      <th>1</th>\n      <th>2</th>\n      <th>3</th>\n      <th>4</th>\n      <th>5</th>\n      <th>6</th>\n      <th>energy</th>\n      <th>num_occurrences</th>\n    </tr>\n  </thead>\n  <tbody>\n    <tr>\n      <th>125</th>\n      <td>1</td>\n      <td>1</td>\n      <td>0</td>\n      <td>0</td>\n      <td>0</td>\n      <td>0</td>\n      <td>1</td>\n      <td>-12.0</td>\n      <td>1</td>\n    </tr>\n    <tr>\n      <th>57</th>\n      <td>1</td>\n      <td>0</td>\n      <td>1</td>\n      <td>0</td>\n      <td>0</td>\n      <td>1</td>\n      <td>0</td>\n      <td>-10.0</td>\n      <td>1</td>\n    </tr>\n    <tr>\n      <th>101</th>\n      <td>1</td>\n      <td>1</td>\n      <td>1</td>\n      <td>0</td>\n      <td>1</td>\n      <td>0</td>\n      <td>1</td>\n      <td>-9.0</td>\n      <td>1</td>\n    </tr>\n    <tr>\n      <th>60</th>\n      <td>0</td>\n      <td>1</td>\n      <td>0</td>\n      <td>0</td>\n      <td>0</td>\n      <td>1</td>\n      <td>0</td>\n      <td>-9.0</td>\n      <td>1</td>\n    </tr>\n    <tr>\n      <th>14</th>\n      <td>1</td>\n      <td>0</td>\n      <td>0</td>\n      <td>1</td>\n      <td>0</td>\n      <td>0</td>\n      <td>0</td>\n      <td>-8.0</td>\n      <td>1</td>\n    </tr>\n    <tr>\n      <th>...</th>\n      <td>...</td>\n      <td>...</td>\n      <td>...</td>\n      <td>...</td>\n      <td>...</td>\n      <td>...</td>\n      <td>...</td>\n      <td>...</td>\n      <td>...</td>\n    </tr>\n    <tr>\n      <th>79</th>\n      <td>0</td>\n      <td>0</td>\n      <td>0</td>\n      <td>1</td>\n      <td>0</td>\n      <td>1</td>\n      <td>1</td>\n      <td>335.0</td>\n      <td>1</td>\n    </tr>\n    <tr>\n      <th>87</th>\n      <td>0</td>\n      <td>0</td>\n      <td>1</td>\n      <td>1</td>\n      <td>1</td>\n      <td>1</td>\n      <td>1</td>\n      <td>358.0</td>\n      <td>1</td>\n    </tr>\n    <tr>\n      <th>95</th>\n      <td>0</td>\n      <td>0</td>\n      <td>0</td>\n      <td>0</td>\n      <td>1</td>\n      <td>1</td>\n      <td>1</td>\n      <td>420.0</td>\n      <td>1</td>\n    </tr>\n    <tr>\n      <th>81</th>\n      <td>1</td>\n      <td>0</td>\n      <td>0</td>\n      <td>1</td>\n      <td>1</td>\n      <td>1</td>\n      <td>1</td>\n      <td>442.0</td>\n      <td>1</td>\n    </tr>\n    <tr>\n      <th>80</th>\n      <td>0</td>\n      <td>0</td>\n      <td>0</td>\n      <td>1</td>\n      <td>1</td>\n      <td>1</td>\n      <td>1</td>\n      <td>540.0</td>\n      <td>1</td>\n    </tr>\n  </tbody>\n</table>\n<p>128 rows × 9 columns</p>\n</div>"
     },
     "execution_count": 221,
     "metadata": {},
     "output_type": "execute_result"
    }
   ],
   "source": [
    "dimod.ExactSolver().sample_qubo(Q).to_pandas_dataframe().sort_values(by='energy')"
   ],
   "metadata": {
    "collapsed": false,
    "ExecuteTime": {
     "start_time": "2024-02-21T22:55:50.933629Z",
     "end_time": "2024-02-21T22:55:51.077858Z"
    }
   }
  },
  {
   "cell_type": "code",
   "execution_count": 224,
   "outputs": [
    {
     "data": {
      "text/plain": "   0  1  2  3  4  5  6  energy  num_occurrences\n2  1  0  0  1  0  0  0    -8.0                1\n3  0  0  1  0  1  0  0    -7.0                1\n4  0  0  1  0  1  0  0    -7.0                1\n0  0  1  1  0  1  1  0    -6.0                1\n1  0  1  1  0  1  1  0    -6.0                1\n6  0  1  1  0  1  1  0    -6.0                1\n8  0  1  1  0  1  1  0    -6.0                1\n5  1  1  1  0  0  1  1    -4.0                1\n7  1  1  1  0  0  1  1    -4.0                1\n9  1  1  1  0  0  1  1    -4.0                1",
      "text/html": "<div>\n<style scoped>\n    .dataframe tbody tr th:only-of-type {\n        vertical-align: middle;\n    }\n\n    .dataframe tbody tr th {\n        vertical-align: top;\n    }\n\n    .dataframe thead th {\n        text-align: right;\n    }\n</style>\n<table border=\"1\" class=\"dataframe\">\n  <thead>\n    <tr style=\"text-align: right;\">\n      <th></th>\n      <th>0</th>\n      <th>1</th>\n      <th>2</th>\n      <th>3</th>\n      <th>4</th>\n      <th>5</th>\n      <th>6</th>\n      <th>energy</th>\n      <th>num_occurrences</th>\n    </tr>\n  </thead>\n  <tbody>\n    <tr>\n      <th>2</th>\n      <td>1</td>\n      <td>0</td>\n      <td>0</td>\n      <td>1</td>\n      <td>0</td>\n      <td>0</td>\n      <td>0</td>\n      <td>-8.0</td>\n      <td>1</td>\n    </tr>\n    <tr>\n      <th>3</th>\n      <td>0</td>\n      <td>0</td>\n      <td>1</td>\n      <td>0</td>\n      <td>1</td>\n      <td>0</td>\n      <td>0</td>\n      <td>-7.0</td>\n      <td>1</td>\n    </tr>\n    <tr>\n      <th>4</th>\n      <td>0</td>\n      <td>0</td>\n      <td>1</td>\n      <td>0</td>\n      <td>1</td>\n      <td>0</td>\n      <td>0</td>\n      <td>-7.0</td>\n      <td>1</td>\n    </tr>\n    <tr>\n      <th>0</th>\n      <td>0</td>\n      <td>1</td>\n      <td>1</td>\n      <td>0</td>\n      <td>1</td>\n      <td>1</td>\n      <td>0</td>\n      <td>-6.0</td>\n      <td>1</td>\n    </tr>\n    <tr>\n      <th>1</th>\n      <td>0</td>\n      <td>1</td>\n      <td>1</td>\n      <td>0</td>\n      <td>1</td>\n      <td>1</td>\n      <td>0</td>\n      <td>-6.0</td>\n      <td>1</td>\n    </tr>\n    <tr>\n      <th>6</th>\n      <td>0</td>\n      <td>1</td>\n      <td>1</td>\n      <td>0</td>\n      <td>1</td>\n      <td>1</td>\n      <td>0</td>\n      <td>-6.0</td>\n      <td>1</td>\n    </tr>\n    <tr>\n      <th>8</th>\n      <td>0</td>\n      <td>1</td>\n      <td>1</td>\n      <td>0</td>\n      <td>1</td>\n      <td>1</td>\n      <td>0</td>\n      <td>-6.0</td>\n      <td>1</td>\n    </tr>\n    <tr>\n      <th>5</th>\n      <td>1</td>\n      <td>1</td>\n      <td>1</td>\n      <td>0</td>\n      <td>0</td>\n      <td>1</td>\n      <td>1</td>\n      <td>-4.0</td>\n      <td>1</td>\n    </tr>\n    <tr>\n      <th>7</th>\n      <td>1</td>\n      <td>1</td>\n      <td>1</td>\n      <td>0</td>\n      <td>0</td>\n      <td>1</td>\n      <td>1</td>\n      <td>-4.0</td>\n      <td>1</td>\n    </tr>\n    <tr>\n      <th>9</th>\n      <td>1</td>\n      <td>1</td>\n      <td>1</td>\n      <td>0</td>\n      <td>0</td>\n      <td>1</td>\n      <td>1</td>\n      <td>-4.0</td>\n      <td>1</td>\n    </tr>\n  </tbody>\n</table>\n</div>"
     },
     "execution_count": 224,
     "metadata": {},
     "output_type": "execute_result"
    }
   ],
   "source": [
    "dimod.SimulatedAnnealingSampler().sample_qubo(Q).to_pandas_dataframe().sort_values(by='energy')"
   ],
   "metadata": {
    "collapsed": false,
    "ExecuteTime": {
     "start_time": "2024-02-21T23:01:03.382024Z",
     "end_time": "2024-02-21T23:01:03.976096Z"
    }
   }
  },
  {
   "cell_type": "code",
   "execution_count": 223,
   "outputs": [],
   "source": [
    "# bqm = BinaryQuadraticModel.from_qubo(QUBO_Q)\n",
    "# qsampler = EmbeddingComposite(DWaveSampler())\n",
    "# qsampler.sample(bqm, num_reads=20).to_pandas_dataframe().sort_values(by='energy')"
   ],
   "metadata": {
    "collapsed": false,
    "ExecuteTime": {
     "start_time": "2024-02-21T22:55:51.559978Z",
     "end_time": "2024-02-21T22:55:51.634990Z"
    }
   }
  }
 ],
 "metadata": {
  "kernelspec": {
   "display_name": "Python 3",
   "language": "python",
   "name": "python3"
  },
  "language_info": {
   "codemirror_mode": {
    "name": "ipython",
    "version": 2
   },
   "file_extension": ".py",
   "mimetype": "text/x-python",
   "name": "python",
   "nbconvert_exporter": "python",
   "pygments_lexer": "ipython2",
   "version": "2.7.6"
  }
 },
 "nbformat": 4,
 "nbformat_minor": 0
}
